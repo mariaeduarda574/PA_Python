{
  "nbformat": 4,
  "nbformat_minor": 0,
  "metadata": {
    "colab": {
      "provenance": [],
      "authorship_tag": "ABX9TyMOEne4ORWZ74CB/q/XpMBX",
      "include_colab_link": true
    },
    "kernelspec": {
      "name": "python3",
      "display_name": "Python 3"
    },
    "language_info": {
      "name": "python"
    }
  },
  "cells": [
    {
      "cell_type": "markdown",
      "metadata": {
        "id": "view-in-github",
        "colab_type": "text"
      },
      "source": [
        "<a href=\"https://colab.research.google.com/github/mariaeduarda574/PA_Python/blob/main/variaveiseoperadoresaritmetricos.ipynb\" target=\"_parent\"><img src=\"https://colab.research.google.com/assets/colab-badge.svg\" alt=\"Open In Colab\"/></a>"
      ]
    },
    {
      "cell_type": "markdown",
      "source": [
        "#Fluxogramas"
      ],
      "metadata": {
        "id": "maf9qhXvAABp"
      }
    },
    {
      "cell_type": "markdown",
      "source": [
        "##Calculo da média"
      ],
      "metadata": {
        "id": "No4FnNVGNmnZ"
      }
    },
    {
      "cell_type": "code",
      "source": [
        "#entrada\n",
        "numer1 = float(input(\"Digite a sua primeira nota: \"))\n",
        "numer2 = float(input(\"Digite a sua segunda nota: \"))"
      ],
      "metadata": {
        "colab": {
          "base_uri": "https://localhost:8080/"
        },
        "id": "1UmwjbWWNlPV",
        "outputId": "fe992d64-8cb5-4f98-ce1d-44b91698d708"
      },
      "execution_count": 29,
      "outputs": [
        {
          "name": "stdout",
          "output_type": "stream",
          "text": [
            "Digite a sua primeira nota: 9\n",
            "Digite a sua segunda nota: 7\n"
          ]
        }
      ]
    },
    {
      "cell_type": "code",
      "source": [
        "#processo\n",
        "media = (numer1 + numer2)/2"
      ],
      "metadata": {
        "id": "FgOXP7TjPmMT"
      },
      "execution_count": 30,
      "outputs": []
    },
    {
      "cell_type": "code",
      "source": [
        "#saida\n",
        "print(f\"A sua media é: {media}\")"
      ],
      "metadata": {
        "colab": {
          "base_uri": "https://localhost:8080/"
        },
        "id": "8ZGJE_z7Pye3",
        "outputId": "3e10dad5-f3bd-4e22-eca6-010defc35292"
      },
      "execution_count": 31,
      "outputs": [
        {
          "output_type": "stream",
          "name": "stdout",
          "text": [
            "A sua media é: 8.0\n"
          ]
        }
      ]
    },
    {
      "cell_type": "markdown",
      "source": [
        "##Conversão de Moeda"
      ],
      "metadata": {
        "id": "4aAWeZtvQGag"
      }
    },
    {
      "cell_type": "code",
      "source": [
        "# entrada\n",
        "dolar = float(input(\"Coloque o valor do dólar: \"))\n",
        "reais = float(input(\"coloque o valor em reais: \"))"
      ],
      "metadata": {
        "colab": {
          "base_uri": "https://localhost:8080/"
        },
        "id": "0FFArkcSQOFX",
        "outputId": "58fff154-d495-4db0-ac23-afc6b0786f10"
      },
      "execution_count": 35,
      "outputs": [
        {
          "name": "stdout",
          "output_type": "stream",
          "text": [
            "Coloque o valor do dólar: 5.73\n",
            "coloque o valor em reais: 100\n"
          ]
        }
      ]
    },
    {
      "cell_type": "code",
      "source": [
        "#processo\n",
        "valordolar = reais/dolar"
      ],
      "metadata": {
        "id": "n2fDKJigQ-rH"
      },
      "execution_count": 34,
      "outputs": []
    },
    {
      "cell_type": "code",
      "source": [
        "#saida\n",
        "print(f\"A conversão fica: ${valordolar}\")"
      ],
      "metadata": {
        "colab": {
          "base_uri": "https://localhost:8080/"
        },
        "id": "8PhwOk7kRMGZ",
        "outputId": "43b22310-44b5-4178-8e0a-9497042822d1"
      },
      "execution_count": 36,
      "outputs": [
        {
          "output_type": "stream",
          "name": "stdout",
          "text": [
            "A conversão fica: $17.452006980802793\n"
          ]
        }
      ]
    },
    {
      "cell_type": "markdown",
      "source": [
        "##Cálculo comissão"
      ],
      "metadata": {
        "id": "h0K6pU04RhH7"
      }
    },
    {
      "cell_type": "code",
      "source": [
        "#entrada\n",
        "valor = float(input(\"Digite o valor da Roupa: \"))\n",
        "qtde = float(input(\"Digeite a quantidae que comprou de roupa: \"))"
      ],
      "metadata": {
        "colab": {
          "base_uri": "https://localhost:8080/"
        },
        "id": "0erRX7gSRnDp",
        "outputId": "6143b172-4129-48cb-eaa7-8971ef927db2"
      },
      "execution_count": 37,
      "outputs": [
        {
          "name": "stdout",
          "output_type": "stream",
          "text": [
            "Digite o valor da Roupa: 150\n",
            "Digeite a quantidae que comprou de roupa: 2\n"
          ]
        }
      ]
    },
    {
      "cell_type": "code",
      "source": [
        "#processo\n",
        "venda = valor * qtde\n",
        "comissao = (venda*5)/100\n"
      ],
      "metadata": {
        "id": "CvPmcuuRSaXG"
      },
      "execution_count": 38,
      "outputs": []
    },
    {
      "cell_type": "code",
      "source": [
        "#saida\n",
        "print(f\"A comissão que o vendedor irá receber é de :{comissao}\")"
      ],
      "metadata": {
        "colab": {
          "base_uri": "https://localhost:8080/"
        },
        "id": "NQIbpprPS8Qr",
        "outputId": "2e9cef58-3e25-471d-cabd-74d4a74f4f72"
      },
      "execution_count": 39,
      "outputs": [
        {
          "output_type": "stream",
          "name": "stdout",
          "text": [
            "A comissão que o vendedor irá receber é de :15.0\n"
          ]
        }
      ]
    },
    {
      "cell_type": "markdown",
      "source": [
        "##valor do carro para o consumidor"
      ],
      "metadata": {
        "id": "pWTfggLWAPSD"
      }
    },
    {
      "cell_type": "code",
      "source": [
        "#entrada\n",
        "valorcarro = 25000.00\n",
        "impostotrib = (valorcarro *45/100 ) + valorcarro"
      ],
      "metadata": {
        "id": "s1oQ7vWD_sti"
      },
      "execution_count": null,
      "outputs": []
    },
    {
      "cell_type": "code",
      "source": [
        "#processo\n",
        "valorfinal = (impostotrib *28/100 ) + impostotrib"
      ],
      "metadata": {
        "id": "zr5lOD6iBCfT"
      },
      "execution_count": null,
      "outputs": []
    },
    {
      "cell_type": "code",
      "source": [
        "#saida\n",
        "print(f\"o valor do carro para o cinsumidor será de: {valorfinal}\")"
      ],
      "metadata": {
        "colab": {
          "base_uri": "https://localhost:8080/"
        },
        "id": "m8Uuv4XuBHCa",
        "outputId": "bb248da4-90a2-46a1-e422-3a71037920eb"
      },
      "execution_count": null,
      "outputs": [
        {
          "output_type": "stream",
          "name": "stdout",
          "text": [
            "o valor do carro para o cinsumidor será de: 46400.0\n"
          ]
        }
      ]
    },
    {
      "cell_type": "markdown",
      "source": [
        "##Convesão de minutose horas em segundo"
      ],
      "metadata": {
        "id": "Cl3kp5rBEajy"
      }
    },
    {
      "cell_type": "code",
      "source": [
        "#entrada\n",
        "horas = (float(input(\"coloque as horas: \")))\n",
        "minutos = (float(input(\"coloque os minutos: \")))"
      ],
      "metadata": {
        "colab": {
          "base_uri": "https://localhost:8080/"
        },
        "id": "IMPi8IINErT9",
        "outputId": "38d4298a-e604-450f-c30e-7142421b6121"
      },
      "execution_count": null,
      "outputs": [
        {
          "name": "stdout",
          "output_type": "stream",
          "text": [
            "coloque as horas: 4\n",
            "coloque os minutos: 23\n"
          ]
        }
      ]
    },
    {
      "cell_type": "code",
      "source": [
        "#processo\n",
        "minutosdec = minutos / 60\n",
        "horasdec = horas + minutosdec"
      ],
      "metadata": {
        "id": "MqHV8eWWGDoh"
      },
      "execution_count": null,
      "outputs": []
    },
    {
      "cell_type": "code",
      "source": [
        "#saida\n",
        "print(f\"são {horas} horas e {minutos} minutos e em segundos são: {horasdec}\")"
      ],
      "metadata": {
        "colab": {
          "base_uri": "https://localhost:8080/"
        },
        "id": "WxJtCvdOGXgp",
        "outputId": "4fcccac3-c67d-4022-ef1d-577f4a355759"
      },
      "execution_count": null,
      "outputs": [
        {
          "output_type": "stream",
          "name": "stdout",
          "text": [
            "são 4.0 horas e 23.0 minutos e em segundos são: 4.383333333333334\n"
          ]
        }
      ]
    },
    {
      "cell_type": "markdown",
      "source": [
        "##Horas extras"
      ],
      "metadata": {
        "id": "qBAbr_z0Hbzj"
      }
    },
    {
      "cell_type": "code",
      "source": [
        "#entrada\n",
        "hora = float(input(\"coloque as horas trabalhadas: \"))\n",
        "minuto = float(input(\"coloque os minutos trabalhados: \"))\n",
        "valorhora = float(input(\"digite o valor que você ganha por hora: \"))"
      ],
      "metadata": {
        "colab": {
          "base_uri": "https://localhost:8080/"
        },
        "id": "NnUFi4ErHgjy",
        "outputId": "dca60743-e9c9-4366-b64e-5075733ac103"
      },
      "execution_count": null,
      "outputs": [
        {
          "name": "stdout",
          "output_type": "stream",
          "text": [
            "coloque as horas trabalhadas: 15\n",
            "coloque os minutos trabalhados: 45\n",
            "digite o valor que você ganha por hora: 25\n"
          ]
        }
      ]
    },
    {
      "cell_type": "code",
      "source": [
        "#processo\n",
        "minutodec = minuto / 60\n",
        "horadec = hora + minutodec\n",
        "salario = (horadec * valorhora)\n",
        "valorfinal = (salario * 70/100) + salario"
      ],
      "metadata": {
        "id": "UP7aEABbKff_"
      },
      "execution_count": null,
      "outputs": []
    },
    {
      "cell_type": "code",
      "source": [
        "print(f\"Seu salário é de: {salario},e com adição dos 70% da hora extra,o seu salário final fica: {valorfinal} \")"
      ],
      "metadata": {
        "colab": {
          "base_uri": "https://localhost:8080/"
        },
        "id": "ByzMZ3skMIKN",
        "outputId": "3453531e-93b5-4e90-e49b-f33a43dbba36"
      },
      "execution_count": null,
      "outputs": [
        {
          "output_type": "stream",
          "name": "stdout",
          "text": [
            "Seu salário é de: 393.75,e com adição dos 70% da hora extra,o seu salário final fica: 669.375 \n"
          ]
        }
      ]
    }
  ]
}